{
 "cells": [
  {
   "cell_type": "code",
   "execution_count": 49,
   "metadata": {},
   "outputs": [
    {
     "name": "stdout",
     "output_type": "stream",
     "text": [
      "Requirement already satisfied: spotipy in /opt/anaconda3/envs/new_env/lib/python3.13/site-packages (2.25.1)\n",
      "Requirement already satisfied: redis>=3.5.3 in /opt/anaconda3/envs/new_env/lib/python3.13/site-packages (from spotipy) (5.2.1)\n",
      "Requirement already satisfied: requests>=2.25.0 in /opt/anaconda3/envs/new_env/lib/python3.13/site-packages (from spotipy) (2.32.3)\n",
      "Requirement already satisfied: urllib3>=1.26.0 in /opt/anaconda3/envs/new_env/lib/python3.13/site-packages (from spotipy) (2.2.3)\n",
      "Requirement already satisfied: charset_normalizer<4,>=2 in /opt/anaconda3/envs/new_env/lib/python3.13/site-packages (from requests>=2.25.0->spotipy) (3.4.0)\n",
      "Requirement already satisfied: idna<4,>=2.5 in /opt/anaconda3/envs/new_env/lib/python3.13/site-packages (from requests>=2.25.0->spotipy) (3.10)\n",
      "Requirement already satisfied: certifi>=2017.4.17 in /opt/anaconda3/envs/new_env/lib/python3.13/site-packages (from requests>=2.25.0->spotipy) (2025.1.31)\n",
      "Note: you may need to restart the kernel to use updated packages.\n"
     ]
    }
   ],
   "source": [
    "pip install spotipy "
   ]
  },
  {
   "cell_type": "code",
   "execution_count": 4,
   "metadata": {},
   "outputs": [],
   "source": [
    "import spotipy\n",
    "from spotipy.oauth2 import SpotifyClientCredentials\n",
    "import pandas as pd\n",
    "\n",
    "# Initialize the Spotify client with your credentials\n",
    "client_id = '340ebe283d9f462489c995e108401871'\n",
    "client_secret = 'a84f4bc0ce67494c969e7a9b818ce574'\n",
    "auth_manager = SpotifyClientCredentials(client_id=client_id, client_secret=client_secret)\n",
    "sp = spotipy.Spotify(auth_manager=auth_manager)\n"
   ]
  },
  {
   "cell_type": "code",
   "execution_count": 11,
   "metadata": {},
   "outputs": [
    {
     "name": "stderr",
     "output_type": "stream",
     "text": [
      "Couldn't write token to cache at: .cache\n"
     ]
    },
    {
     "name": "stdout",
     "output_type": "stream",
     "text": [
      "Title: Poor Little Fool - 2001 Digital Remaster, Artist: Ricky Nelson, Duration: 2.56555 minutes, Popularity: 0\n",
      "Title: Nel Blu Dipinto Di Blu, Artist: Domenico Modugno, Duration: 3.652 minutes, Popularity: 50\n",
      "Title: Little Star, Artist: The Elegants, Duration: 2.7128833333333335 minutes, Popularity: 33\n",
      "Title: It's All In The Game, Artist: Tommy Edwards, Duration: 2.6073333333333335 minutes, Popularity: 0\n",
      "Title: It's Only Make Believe - Single Version, Artist: Conway Twitty, Duration: 2.2304333333333335 minutes, Popularity: 27\n",
      "Title: Tom Dooley - Remastered, Artist: The Kingston Trio, Duration: 3.0837666666666665 minutes, Popularity: 32\n",
      "Title: To Know Him Is To Love Him, Artist: The Teddy Bears, Duration: 2.4344333333333332 minutes, Popularity: 0\n",
      "Title: The Chipmunk Song (Christmas Don't Be Late) - Remastered 1999, Artist: Alvin & The Chipmunks, David Seville, Duration: 2.3577666666666666 minutes, Popularity: 45\n",
      "Title: Smoke Gets In Your Eyes, Artist: The Platters, Duration: 2.6293333333333333 minutes, Popularity: 48\n",
      "Title: Stagger Lee, Artist: Lloyd Price, Duration: 2.416 minutes, Popularity: 34\n",
      "Title: Venus, Artist: Frankie Avalon, Duration: 2.37 minutes, Popularity: 29\n",
      "Title: Come Softly To Me, Artist: The Fleetwoods, Duration: 2.41555 minutes, Popularity: 51\n",
      "Title: The Happy Organ, Artist: Dave \"Baby\" Cortez, Duration: 2.0328833333333334 minutes, Popularity: 9\n",
      "Title: Kansas City, Artist: Wilbert Harrison, Duration: 2.4326666666666665 minutes, Popularity: 7\n",
      "Title: The Battle Of New Orleans, Artist: Johnny Horton, Duration: 2.5211 minutes, Popularity: 7\n",
      "Title: Lonely Boy, Artist: Paul Anka, Duration: 2.5184333333333333 minutes, Popularity: 43\n",
      "Title: A Big Hunk O' Love, Artist: Elvis Presley, Duration: 2.2182166666666667 minutes, Popularity: 39\n",
      "Title: The Three Bells (Les Trois Cloches) (feat. Jim Ed Brown), Artist: The Browns, Jim Ed Brown, Duration: 2.8973333333333335 minutes, Popularity: 41\n",
      "Title: Sleep Walk, Artist: Santo & Johnny, Duration: 2.4222166666666665 minutes, Popularity: 63\n",
      "Title: Mack the Knife, Artist: Bobby Darin, Duration: 3.072216666666667 minutes, Popularity: 41\n",
      "Title: Mr. Blue, Artist: The Fleetwoods, Duration: 2.4188833333333335 minutes, Popularity: 51\n",
      "Title: Heartaches By The Number, Artist: Guy Mitchell, Duration: 2.5715833333333333 minutes, Popularity: 48\n",
      "Title: The Stroll, Artist: Frankie Avalon, Duration: 2.6253333333333333 minutes, Popularity: 10\n",
      "Title: El Paso, Artist: Marty Robbins, Duration: 4.321766666666667 minutes, Popularity: 64\n",
      "Title: Running Bear, Artist: Johnny Preston, Duration: 2.6366666666666667 minutes, Popularity: 21\n",
      "Title: Teen Angel, Artist: Mark Dinning, Duration: 2.618 minutes, Popularity: 0\n",
      "Title: The Theme from \"A Summer Place\" - Single Version, Artist: Percy Faith & His Orchestra, Duration: 2.4148833333333335 minutes, Popularity: 46\n",
      "Title: Stuck on You, Artist: Elvis Presley, Duration: 2.3273333333333333 minutes, Popularity: 47\n",
      "Title: Cathy's Clown, Artist: The Everly Brothers, Duration: 2.4002166666666667 minutes, Popularity: 43\n",
      "Title: Everybody's Somebody's Fool, Artist: Connie Francis, Duration: 2.6682166666666665 minutes, Popularity: 0\n",
      "Title: Alley-Oop, Artist: The Hollywood Argyles, Duration: 2.68 minutes, Popularity: 4\n",
      "Title: I'm Sorry - Single Version, Artist: Brenda Lee, Duration: 2.6677666666666666 minutes, Popularity: 0\n",
      "Title: Itsy Bitsy Teenie Weenie Yellow Polka-Dot Bikini, Artist: Brian Hyland, Duration: 2.3966666666666665 minutes, Popularity: 44\n",
      "Title: It's Now or Never, Artist: Elvis Presley, Duration: 3.243333333333333 minutes, Popularity: 55\n",
      "Title: The Twist, Artist: Chubby Checker, Duration: 2.562666666666667 minutes, Popularity: 51\n",
      "Title: My Heart Has A Mind Of Its Own, Artist: Connie Francis, Duration: 2.5377666666666667 minutes, Popularity: 0\n",
      "Title: Mr. Custer, Artist: Larry Verne, Duration: 3.086883333333333 minutes, Popularity: 0\n",
      "Title: Save the Last Dance for Me, Artist: The Drifters, Duration: 2.582666666666667 minutes, Popularity: 62\n",
      "Title: I Want To Be Wanted (Per Tutta La Vita) - Single Version, Artist: Brenda Lee, Duration: 3.082666666666667 minutes, Popularity: 0\n",
      "Title: Georgia on My Mind - Original Master Recording, Artist: Ray Charles, Duration: 3.6235666666666666 minutes, Popularity: 56\n",
      "Title: Stay, Artist: Maurice Williams, The Zodiacs, Duration: 1.5817666666666668 minutes, Popularity: 55\n",
      "Title: Are You Lonesome Tonight, Artist: Elvis Presley, Duration: 3.1171 minutes, Popularity: 50\n",
      "Title: Wonderland by Night, Artist: Bert Kaempfert, Duration: 3.2324333333333333 minutes, Popularity: 0\n",
      "Title: Will You Love Me Tomorrow, Artist: The Shirelles, Duration: 2.7006666666666668 minutes, Popularity: 28\n",
      "Title: Calcutta - Remastered, Artist: Lawrence Welk, Duration: 2.2028833333333333 minutes, Popularity: 19\n",
      "Title: Pony Time, Artist: Chubby Checker, Duration: 2.4133333333333336 minutes, Popularity: 0\n",
      "Title: Surrender, Artist: Elvis Presley, Duration: 1.8704333333333334 minutes, Popularity: 45\n",
      "Title: Blue Moon, Artist: The Marcels, Duration: 2.2533333333333334 minutes, Popularity: 41\n",
      "Title: Runaway - Single Version, Artist: Del Shannon, Duration: 2.332883333333333 minutes, Popularity: 0\n",
      "Title: Mother-in-Law - 2002 Remaster, Artist: Ernie K-Doe, Duration: 2.56 minutes, Popularity: 19\n",
      "Title: Travelin' Man - Remastered, Artist: Ricky Nelson, Duration: 2.382216666666667 minutes, Popularity: 37\n",
      "Title: Running Scared, Artist: Roy Orbison, Duration: 2.2006666666666668 minutes, Popularity: 47\n",
      "Title: Moody River, Artist: Pat Boone, Duration: 2.5597666666666665 minutes, Popularity: 28\n",
      "Title: Quarter To Three, Artist: Gary U.S. Bonds, Duration: 2.506666666666667 minutes, Popularity: 28\n",
      "Title: Tossin' And Trunin' - Mono Version, Artist: Bobby Lewis, Duration: 2.656433333333333 minutes, Popularity: 6\n",
      "Title: Wooden Heart, Artist: Joe Dowell, Duration: 1.9737666666666667 minutes, Popularity: 14\n",
      "Title: Michael, Artist: The Highwaymen, Duration: 2.96245 minutes, Popularity: 19\n",
      "Title: Take Good Care Of My Baby - 1990 Remastered, Artist: Bobby Vee, Duration: 2.5144333333333333 minutes, Popularity: 50\n",
      "Title: Hit the Road Jack, Artist: Ray Charles, Duration: 2.002883333333333 minutes, Popularity: 0\n",
      "Title: Runaround Sue, Artist: Dion, Duration: 2.86 minutes, Popularity: 68\n",
      "Title: Big Bad John, Artist: Jimmy Dean, Duration: 3.042666666666667 minutes, Popularity: 54\n",
      "Title: Please Mr. Postman - Single Version / Mono, Artist: The Marvelettes, Duration: 2.4673333333333334 minutes, Popularity: 63\n",
      "Title: The Lion Sleeps Tonight (Wimoweh), Artist: The Tokens, Duration: 2.70155 minutes, Popularity: 62\n",
      "Title: Peppermint Twist, Artist: Joey Dee, Starliters, Duration: 1.986 minutes, Popularity: 0\n",
      "Title: Duke of Earl, Artist: Gene Chandler, Duration: 2.4640166666666667 minutes, Popularity: 54\n",
      "Title: Hey! Baby - Single Version, Artist: Bruce Channel, Duration: 2.370216666666667 minutes, Popularity: 0\n",
      "Title: Don't Break The Heart That Loves You, Artist: Connie Francis, Duration: 3.092216666666667 minutes, Popularity: 0\n",
      "Title: Johnny Angel - Single Version, Artist: Shelley Fabares, Duration: 2.322 minutes, Popularity: 32\n",
      "Title: Good Luck Charm, Artist: Elvis Presley, Duration: 2.4233333333333333 minutes, Popularity: 40\n",
      "Title: Soldier Boy, Artist: The Shirelles, Duration: 2.7002166666666665 minutes, Popularity: 0\n",
      "Title: Stranger on the Shore, Artist: Acker Bilk, Duration: 3.366 minutes, Popularity: 0\n",
      "Title: I Can't Stop Loving You, Artist: Ray Charles, Duration: 4.212233333333334 minutes, Popularity: 0\n",
      "Title: The Stripper, Artist: David Rose, Duration: 1.94555 minutes, Popularity: 27\n",
      "Title: Roses Are Red (My Love) - Single Version, Artist: Bobby Vinton, Duration: 2.6488833333333335 minutes, Popularity: 37\n",
      "Title: Breaking Up Is Hard to Do, Artist: Neil Sedaka, Duration: 2.2682166666666665 minutes, Popularity: 46\n",
      "Title: The Locomotion, Artist: Little Eva, Duration: 2.3186666666666667 minutes, Popularity: 41\n",
      "Title: Sheila, Artist: Tommy Roe, Duration: 2.117766666666667 minutes, Popularity: 46\n",
      "Title: Sherry, Artist: Frankie Valli & The Four Seasons, Duration: 2.536 minutes, Popularity: 53\n",
      "Title: Monster Mash, Artist: Bobby \"Boris\" Pickett, The Crypt-Kickers, Duration: 3.2006666666666668 minutes, Popularity: 55\n",
      "Title: He's a Rebel, Artist: The Crystals, Duration: 2.514883333333333 minutes, Popularity: 44\n",
      "Title: Big Girls Don't Cry, Artist: Frankie Valli & The Four Seasons, Duration: 2.4328833333333333 minutes, Popularity: 46\n",
      "Title: Telstar, Artist: The Tornados, Duration: 3.25155 minutes, Popularity: 0\n",
      "Title: , Artist: , Duration: 0.0 minutes, Popularity: 0\n",
      "Title: Walk Right In, Artist: The Rooftop Singers, Duration: 2.6211 minutes, Popularity: 45\n",
      "Title: Hey Paula, Artist: Paul & Paula, Duration: 2.5408833333333334 minutes, Popularity: 0\n",
      "Title: Walk Like a Man, Artist: Frankie Valli & The Four Seasons, Duration: 2.2922166666666666 minutes, Popularity: 43\n",
      "Title: Our Day Will Come, Artist: Ruby And The Romantics, Duration: 2.5784333333333334 minutes, Popularity: 43\n",
      "Title: He's So Fine - Remastered 2000, Artist: The Chiffons, Duration: 1.8753333333333333 minutes, Popularity: 56\n",
      "Title: I Will Follow Him, Artist: Peggy March, Duration: 2.469333333333333 minutes, Popularity: 54\n",
      "Title: If You Wanna Be Happy, Artist: Jimmy Soul, Duration: 2.3833333333333333 minutes, Popularity: 51\n",
      "Title: It's My Party, Artist: Lesley Gore, Duration: 2.3333333333333335 minutes, Popularity: 63\n",
      "Title: Sukiyaki, Artist: Kyu Sakamoto, Duration: 3.1586666666666665 minutes, Popularity: 45\n",
      "Title: Easier Said Than Done, Artist: The Essex, Duration: 2.1006666666666667 minutes, Popularity: 35\n",
      "Title: Surf City, Artist: Jan & Dean, Duration: 2.4544333333333332 minutes, Popularity: 48\n",
      "Title: So Much In Love, Artist: The Tymes, Duration: 2.3411 minutes, Popularity: 41\n",
      "Title: Fingertips, Part 2 - Live At The Regal Theater/1963/ Single Version, Artist: Stevie Wonder, Duration: 3.1928833333333335 minutes, Popularity: 0\n",
      "Title: My Boyfriend's Back, Artist: The Angels, Duration: 2.28 minutes, Popularity: 46\n",
      "Title: Blue Velvet, Artist: Bobby Vinton, Duration: 2.80155 minutes, Popularity: 57\n",
      "Title: Sugar Shack, Artist: Jimmy Gilmer & The Fireballs, Duration: 2.06155 minutes, Popularity: 0\n",
      "Title: Deep Purple, Artist: Nino Tempo & April Stevens, Duration: 2.6688833333333335 minutes, Popularity: 33\n"
     ]
    }
   ],
   "source": [
    "def get_tracks_data(playlist_id):\n",
    "    results = sp.playlist_tracks(playlist_id)\n",
    "    tracks = results['items']\n",
    "\n",
    "    track_details = []\n",
    "    for track in tracks:\n",
    "        if track['track']:  # Ensure the track details are present\n",
    "            track_info = track['track']\n",
    "            duration_min = track_info['duration_ms'] / 60000  # Convert ms to minutes\n",
    "            track_details.append({\n",
    "                'Title': track_info['name'],\n",
    "                'Artist': ', '.join(artist['name'] for artist in track_info['artists']),\n",
    "                'Popularity': track_info['popularity'],\n",
    "                'Duration_ms': track_info['duration_ms'],\n",
    "                'Duration_min': duration_min  # Duration in minutes\n",
    "            })\n",
    "\n",
    "    return track_details\n",
    "\n",
    "# Fetch and display tracks data\n",
    "track_data = get_tracks_data('7c2c13pKxvFDSV4WSyydyg')\n",
    "for track in track_data:\n",
    "    print(f\"Title: {track['Title']}, Artist: {track['Artist']}, Duration: {track['Duration_min']} minutes, Popularity: {track['Popularity']}\")\n"
   ]
  },
  {
   "cell_type": "code",
   "execution_count": null,
   "metadata": {},
   "outputs": [
    {
     "name": "stdout",
     "output_type": "stream",
     "text": [
      "  Duration Category  Popularity\n",
      "0       0-1 minutes    0.000000\n",
      "1       1-2 minutes   32.833333\n",
      "2       2-3 minutes   32.213333\n",
      "3       3-4 minutes   27.375000\n",
      "4       4-5 minutes   32.000000\n",
      "5       5-6 minutes         NaN\n"
     ]
    },
    {
     "name": "stderr",
     "output_type": "stream",
     "text": [
      "/var/folders/8z/1d0__4cs0l5g54jtpcl27j180000gn/T/ipykernel_45513/3284948778.py:12: FutureWarning: The default of observed=False is deprecated and will be changed to True in a future version of pandas. Pass observed=False to retain current behavior or observed=True to adopt the future default and silence this warning.\n",
      "  popularity_summary = df.groupby('Duration Category')['Popularity'].mean().reset_index()\n"
     ]
    }
   ],
   "source": [
    "import pandas as pd\n",
    "\n",
    "def analyze_duration_popularity(tracks):\n",
    "    df = pd.DataFrame(tracks)\n",
    "    # Define duration bins and labels\n",
    "    # Bins are now defined for exact minute intervals\n",
    "    bins = [0, 1, 2, 3, 4, 5, 6]  # Bins for 0-1 minute, 1-2 minutes, etc., up to 5-6 minutes\n",
    "    labels = ['0-1 minutes', '1-2 minutes', '2-3 minutes', '3-4 minutes', '4-5 minutes', '5-6 minutes']\n",
    "    df['Duration Category'] = pd.cut(df['Duration_min'], bins=bins, labels=labels, right=False)\n",
    "    \n",
    "    # Calculate average popularity for each duration category\n",
    "    popularity_summary = df.groupby('Duration Category')['Popularity'].mean().reset_index()\n",
    "    return popularity_summary\n",
    "\n",
    "popularity_analysis = analyze_duration_popularity(track_data)\n",
    "print(popularity_analysis)\n"
   ]
  }
 ],
 "metadata": {
  "kernelspec": {
   "display_name": "new_env",
   "language": "python",
   "name": "python3"
  },
  "language_info": {
   "codemirror_mode": {
    "name": "ipython",
    "version": 3
   },
   "file_extension": ".py",
   "mimetype": "text/x-python",
   "name": "python",
   "nbconvert_exporter": "python",
   "pygments_lexer": "ipython3",
   "version": "3.13.1"
  }
 },
 "nbformat": 4,
 "nbformat_minor": 2
}

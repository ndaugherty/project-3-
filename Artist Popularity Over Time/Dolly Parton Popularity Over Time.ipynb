{
 "cells": [
  {
   "cell_type": "code",
   "execution_count": 1,
   "metadata": {},
   "outputs": [
    {
     "name": "stdout",
     "output_type": "stream",
     "text": [
      "Requirement already satisfied: spotipy in /opt/anaconda3/envs/env1/lib/python3.13/site-packages (2.25.1)\n",
      "Requirement already satisfied: pandas in /opt/anaconda3/envs/env1/lib/python3.13/site-packages (2.2.3)\n",
      "Requirement already satisfied: redis>=3.5.3 in /opt/anaconda3/envs/env1/lib/python3.13/site-packages (from spotipy) (5.2.1)\n",
      "Requirement already satisfied: requests>=2.25.0 in /opt/anaconda3/envs/env1/lib/python3.13/site-packages (from spotipy) (2.32.3)\n",
      "Requirement already satisfied: urllib3>=1.26.0 in /opt/anaconda3/envs/env1/lib/python3.13/site-packages (from spotipy) (2.3.0)\n",
      "Requirement already satisfied: numpy>=1.26.0 in /opt/anaconda3/envs/env1/lib/python3.13/site-packages (from pandas) (2.1.3)\n",
      "Requirement already satisfied: python-dateutil>=2.8.2 in /opt/anaconda3/envs/env1/lib/python3.13/site-packages (from pandas) (2.9.0.post0)\n",
      "Requirement already satisfied: pytz>=2020.1 in /opt/anaconda3/envs/env1/lib/python3.13/site-packages (from pandas) (2024.1)\n",
      "Requirement already satisfied: tzdata>=2022.7 in /opt/anaconda3/envs/env1/lib/python3.13/site-packages (from pandas) (2024.2)\n",
      "Requirement already satisfied: six>=1.5 in /opt/anaconda3/envs/env1/lib/python3.13/site-packages (from python-dateutil>=2.8.2->pandas) (1.17.0)\n",
      "Requirement already satisfied: charset-normalizer<4,>=2 in /opt/anaconda3/envs/env1/lib/python3.13/site-packages (from requests>=2.25.0->spotipy) (3.4.1)\n",
      "Requirement already satisfied: idna<4,>=2.5 in /opt/anaconda3/envs/env1/lib/python3.13/site-packages (from requests>=2.25.0->spotipy) (3.10)\n",
      "Requirement already satisfied: certifi>=2017.4.17 in /opt/anaconda3/envs/env1/lib/python3.13/site-packages (from requests>=2.25.0->spotipy) (2025.1.31)\n"
     ]
    }
   ],
   "source": [
    "! pip install spotipy pandas"
   ]
  },
  {
   "cell_type": "code",
   "execution_count": 2,
   "metadata": {},
   "outputs": [],
   "source": [
    "import spotipy\n",
    "from spotipy.oauth2 import SpotifyClientCredentials\n",
    "import pandas as pd\n",
    "import base64\n",
    "import requests\n",
    "import time"
   ]
  },
  {
   "cell_type": "code",
   "execution_count": 3,
   "metadata": {},
   "outputs": [],
   "source": [
    "# spotify credentials\n",
    "client_id = \"340ebe283d9f462489c995e108401871\"\n",
    "client_secret = \"a84f4bc0ce67494c969e7a9b818ce574\"\n",
    "sp = spotipy.Spotify(auth_manager=SpotifyClientCredentials(client_id=client_id, client_secret=client_secret))"
   ]
  },
  {
   "cell_type": "code",
   "execution_count": 4,
   "metadata": {},
   "outputs": [
    {
     "name": "stdout",
     "output_type": "stream",
     "text": [
      "Dolly Parton's Artist ID: 32vWCbZh0xZ4o9gkz4PsEU\n"
     ]
    }
   ],
   "source": [
    "# Search for Dolly Parton and get the artist ID\n",
    "artist_name = \"Dolly Parton\"\n",
    "results = sp.search(q=artist_name, type=\"artist\", limit=1)\n",
    "dolly_id = results['artists']['items'][0]['id']\n",
    "print(f\"Dolly Parton's Artist ID: {dolly_id}\")"
   ]
  },
  {
   "cell_type": "code",
   "execution_count": 5,
   "metadata": {},
   "outputs": [
    {
     "name": "stdout",
     "output_type": "stream",
     "text": [
      "                                          album_name                album_id  \\\n",
      "0       Smoky Mountain DNA: Family, Faith and Fables  28bVqBO08O6jcgirj9Yj0l   \n",
      "1                                  Rockstar (Deluxe)  337iOvlhWakFamgb6x2vKN   \n",
      "2                                           Rockstar  2thjKwqPvHo5SWzSzudVB2   \n",
      "3                                     Run, Rose, Run  50A9Yv2SPJByoZIDO5WVzG   \n",
      "4  A Holly Dolly Christmas (Ultimate Deluxe Edition)  0UKCFUDo5hCdAB4b6tPqQe   \n",
      "\n",
      "  release_date  \n",
      "0   2024-11-15  \n",
      "1   2024-01-19  \n",
      "2   2023-11-17  \n",
      "3   2022-03-04  \n",
      "4   2020-10-02  \n"
     ]
    }
   ],
   "source": [
    "# Get all albums by Dolly Parton\n",
    "albums = sp.artist_albums(dolly_id, album_type='album', limit=50)\n",
    "album_list = []\n",
    "for album in albums['items']:\n",
    "    album_list.append({'album_name': album['name'], \n",
    "                       'album_id': album['id'], \n",
    "                       'release_date': album['release_date']})\n",
    "\n",
    "# Convert to DataFrame\n",
    "albums_df = pd.DataFrame(album_list)\n",
    "print(albums_df.head())"
   ]
  },
  {
   "cell_type": "code",
   "execution_count": 6,
   "metadata": {},
   "outputs": [
    {
     "name": "stderr",
     "output_type": "stream",
     "text": [
      "WARNING:root:Your application has reached a rate/request limit. Retry will occur after: 1\n",
      "WARNING:root:Your application has reached a rate/request limit. Retry will occur after: 1\n",
      "WARNING:root:Your application has reached a rate/request limit. Retry will occur after: 1\n",
      "WARNING:root:Your application has reached a rate/request limit. Retry will occur after: 1\n",
      "WARNING:root:Your application has reached a rate/request limit. Retry will occur after: 1\n",
      "WARNING:root:Your application has reached a rate/request limit. Retry will occur after: 1\n",
      "WARNING:root:Your application has reached a rate/request limit. Retry will occur after: 1\n",
      "WARNING:root:Your application has reached a rate/request limit. Retry will occur after: 1\n"
     ]
    },
    {
     "name": "stdout",
     "output_type": "stream",
     "text": [
      "                                          track_name  \\\n",
      "0             Introduction - Tennessee Mountain Home   \n",
      "1                         My Tennessee Mountain Home   \n",
      "2   Grooms Tune / Bonaparte's Retreat (Instrumental)   \n",
      "3                                 I'll Live in Glory   \n",
      "4  Singing His Praise / Daddy Was an Old Time Pre...   \n",
      "\n",
      "                                     album_name release_date  popularity  \n",
      "0  Smoky Mountain DNA: Family, Faith and Fables   2024-11-15          24  \n",
      "1  Smoky Mountain DNA: Family, Faith and Fables   2024-11-15          30  \n",
      "2  Smoky Mountain DNA: Family, Faith and Fables   2024-11-15          22  \n",
      "3  Smoky Mountain DNA: Family, Faith and Fables   2024-11-15          21  \n",
      "4  Smoky Mountain DNA: Family, Faith and Fables   2024-11-15          22  \n"
     ]
    }
   ],
   "source": [
    "# Get track details and popularity from each album\n",
    "track_list = []\n",
    "\n",
    "for album in album_list:\n",
    "    album_id = album['album_id']\n",
    "    tracks = sp.album_tracks(album_id)\n",
    "    \n",
    "    for track in tracks['items']:\n",
    "        track_info = sp.track(track['id'])\n",
    "        track_list.append({\n",
    "            'track_name': track['name'],\n",
    "            'album_name': album['album_name'],\n",
    "            'release_date': album['release_date'],\n",
    "            'popularity': track_info['popularity']\n",
    "        })\n",
    "\n",
    "# Convert to DataFrame\n",
    "tracks_df = pd.DataFrame(track_list)\n",
    "# Convert release_date to datetime format, handling inconsistent formats\n",
    "tracks_df['release_date'] = pd.to_datetime(tracks_df['release_date'], errors='coerce')\n",
    "\n",
    "# Fill missing dates with a default value (e.g., \"1900-01-01\") or handle them as needed\n",
    "tracks_df['release_date'] = tracks_df['release_date'].fillna(pd.Timestamp(\"1900-01-01\"))\n",
    "print(tracks_df.head())"
   ]
  },
  {
   "cell_type": "code",
   "execution_count": 7,
   "metadata": {},
   "outputs": [
    {
     "name": "stdout",
     "output_type": "stream",
     "text": [
      "                                          track_name  \\\n",
      "0             Introduction - Tennessee Mountain Home   \n",
      "1                         My Tennessee Mountain Home   \n",
      "2   Grooms Tune / Bonaparte's Retreat (Instrumental)   \n",
      "3                                 I'll Live in Glory   \n",
      "4  Singing His Praise / Daddy Was an Old Time Pre...   \n",
      "\n",
      "                                     album_name release_date  popularity  \\\n",
      "0  Smoky Mountain DNA: Family, Faith and Fables   2024-11-15          24   \n",
      "1  Smoky Mountain DNA: Family, Faith and Fables   2024-11-15          30   \n",
      "2  Smoky Mountain DNA: Family, Faith and Fables   2024-11-15          22   \n",
      "3  Smoky Mountain DNA: Family, Faith and Fables   2024-11-15          21   \n",
      "4  Smoky Mountain DNA: Family, Faith and Fables   2024-11-15          22   \n",
      "\n",
      "   release_year  \n",
      "0          2024  \n",
      "1          2024  \n",
      "2          2024  \n",
      "3          2024  \n",
      "4          2024  \n",
      "    release_year  popularity\n",
      "0           1900   18.250000\n",
      "1           1975   10.700000\n",
      "2           1976   16.400000\n",
      "3           1977   27.950000\n",
      "4           1979   18.300000\n",
      "5           1980   15.000000\n",
      "6           1982   11.800000\n",
      "7           1983   13.200000\n",
      "8           1984   19.818182\n",
      "9           1985   21.600000\n",
      "10          1987   23.904762\n",
      "11          1989   23.600000\n",
      "12          1990   21.200000\n",
      "13          1991   21.727273\n",
      "14          1993   23.750000\n",
      "15          1994   11.652174\n",
      "16          1995   13.700000\n",
      "17          1996   21.090909\n",
      "18          1998   11.833333\n",
      "19          1999   15.454545\n",
      "20          2001   22.071429\n",
      "21          2002   17.857143\n",
      "22          2003   14.555556\n",
      "23          2004   10.086957\n",
      "24          2005   13.750000\n",
      "25          2008   15.000000\n",
      "26          2009    8.789474\n",
      "27          2011   11.125000\n",
      "28          2014   21.583333\n",
      "29          2016   12.166667\n",
      "30          2017   13.142857\n",
      "31          2018   25.434783\n",
      "32          2020   23.800000\n",
      "33          2022   16.666667\n",
      "34          2023   26.733333\n",
      "35          2024   19.250000\n"
     ]
    }
   ],
   "source": [
    "# Extract the year from the release date\n",
    "tracks_df['release_year'] = tracks_df['release_date'].dt.year\n",
    "\n",
    "\n",
    "#extract album name\n",
    "tracks_df['album_name'] = tracks_df['album_name'].str.split('(', expand=True)[0]\n",
    "print(tracks_df.head())\n",
    "\n",
    "# Group by year and calculate average popularity\n",
    "yearly_popularity = tracks_df.groupby('release_year')['popularity'].mean().reset_index()\n",
    "print(yearly_popularity.sort_values(by='release_year', ascending=True))"
   ]
  },
  {
   "cell_type": "code",
   "execution_count": 8,
   "metadata": {},
   "outputs": [],
   "source": [
    "#save dataframes to csv\n",
    "yearly_popularity.to_csv('yearly_popularity.csv', index=False)"
   ]
  },
  {
   "cell_type": "code",
   "execution_count": 9,
   "metadata": {},
   "outputs": [
    {
     "name": "stdout",
     "output_type": "stream",
     "text": [
      "   decade  popularity\n",
      "0    1900   18.250000\n",
      "1    1970   20.260000\n",
      "2    1980   18.096774\n",
      "3    1990   17.398374\n",
      "4    2000   12.304598\n",
      "5    2010   17.558442\n",
      "6    2020   21.311594\n"
     ]
    }
   ],
   "source": [
    "# Create a decade column\n",
    "tracks_df['decade'] = (tracks_df['release_year'] // 10) * 10\n",
    "\n",
    "# Group by decade and calculate average popularity\n",
    "decade_popularity = tracks_df.groupby('decade')['popularity'].mean().reset_index()\n",
    "print(decade_popularity.sort_values(by='decade', ascending=True))"
   ]
  },
  {
   "cell_type": "code",
   "execution_count": 10,
   "metadata": {},
   "outputs": [],
   "source": [
    "#save dataframes to csv\n",
    "decade_popularity.to_csv('decade_popularity.csv', index=False)"
   ]
  },
  {
   "cell_type": "code",
   "execution_count": 11,
   "metadata": {},
   "outputs": [
    {
     "name": "stdout",
     "output_type": "stream",
     "text": [
      "Peak Year: 1977.0 with Popularity Score: 27.95\n"
     ]
    }
   ],
   "source": [
    "# Find the year with the highest average popularity\n",
    "peak_year = yearly_popularity.loc[yearly_popularity['popularity'].idxmax()]\n",
    "print(f\"Peak Year: {peak_year['release_year']} with Popularity Score: {peak_year['popularity']:.2f}\")"
   ]
  },
  {
   "cell_type": "code",
   "execution_count": 12,
   "metadata": {},
   "outputs": [
    {
     "name": "stdout",
     "output_type": "stream",
     "text": [
      "Artist: *NSYNC, Popularity: 72\n",
      "Artist: *67, Popularity: 45\n",
      "Artist: Eric Carmen, Popularity: 65\n",
      "Artist: Clifford Brown, Popularity: 47\n",
      "Artist: Sidney Bechet, Popularity: 46\n"
     ]
    }
   ],
   "source": [
    "# Example: Get top 5 artists globally based on popularity\n",
    "top_artists = sp.search(q=\"*\", type=\"artist\", limit=5)\n",
    "for artist in top_artists['artists']['items']:\n",
    "    print(f\"Artist: {artist['name']}, Popularity: {artist['popularity']}\")"
   ]
  },
  {
   "cell_type": "code",
   "execution_count": 13,
   "metadata": {},
   "outputs": [
    {
     "name": "stdout",
     "output_type": "stream",
     "text": [
      "Dolly Parton's Popularity: 74\n"
     ]
    }
   ],
   "source": [
    "#Find Dolly Parton's popularity\n",
    "dolly_popularity = sp.artist(dolly_id)['popularity']\n",
    "print(f\"Dolly Parton's Popularity: {dolly_popularity}\")"
   ]
  },
  {
   "cell_type": "markdown",
   "metadata": {},
   "source": [
    "Dolly Parton's popularity is relative to other artists on Spotify, and the popularity value provided by the Spotify API is based on how well a track or artist is performing in relation to other artists and tracks at any given time.\n",
    "\n",
    "How is Popularity Measured on Spotify?\n",
    "Spotify calculates the popularity score for each track and artist using several factors, including:\n",
    "\n",
    "Streaming data (how often tracks are played).\n",
    "User interaction (how often songs are added to playlists, liked, shared, etc.).\n",
    "Recency of plays (newer plays are weighted more heavily).\n",
    "Overall listening trends within Spotify’s user base.\n",
    "The popularity score ranges from 0 to 100, where:\n",
    "\n",
    "100 indicates the track is extremely popular on the platform.\n",
    "0 means it's not well known or very obscure.\n",
    "However, the score is not an absolute measure of a track's popularity across the entire world; it’s relative to the general Spotify audience at any point in time."
   ]
  },
  {
   "cell_type": "markdown",
   "metadata": {},
   "source": [
    "### Fetch Popularity Data for Dolly Parton, Taylor Swift, and Drake"
   ]
  },
  {
   "cell_type": "code",
   "execution_count": 15,
   "metadata": {},
   "outputs": [
    {
     "name": "stdout",
     "output_type": "stream",
     "text": [
      "Dolly Parton's Popularity: 74\n",
      "Taylor Swift's Popularity: 97\n",
      "Drake's Popularity: 97\n",
      "Elvis Presley's Popularity: 78\n"
     ]
    }
   ],
   "source": [
    "# Function to get the artist popularity\n",
    "def get_artist_popularity(artist_name):\n",
    "    results = sp.search(q=artist_name, type='artist', limit=1)\n",
    "    artist_id = results['artists']['items'][0]['id']\n",
    "    artist_data = sp.artist(artist_id)\n",
    "    return artist_name, artist_data['popularity']\n",
    "\n",
    "# Compare Dolly Parton, Taylor Swift, and Drake\n",
    "artists = ['Dolly Parton', 'Taylor Swift', 'Drake', 'Elvis Presley']\n",
    "popularity_comparison = {}\n",
    "\n",
    "for artist in artists:\n",
    "    name, popularity = get_artist_popularity(artist)\n",
    "    popularity_comparison[name] = popularity\n",
    "\n",
    "# Display the popularity comparison\n",
    "for artist, popularity in popularity_comparison.items():\n",
    "    print(f\"{artist}'s Popularity: {popularity}\")"
   ]
  }
 ],
 "metadata": {
  "kernelspec": {
   "display_name": "env1",
   "language": "python",
   "name": "env1"
  },
  "language_info": {
   "codemirror_mode": {
    "name": "ipython",
    "version": 3
   },
   "file_extension": ".py",
   "mimetype": "text/x-python",
   "name": "python",
   "nbconvert_exporter": "python",
   "pygments_lexer": "ipython3",
   "version": "3.13.1"
  }
 },
 "nbformat": 4,
 "nbformat_minor": 2
}

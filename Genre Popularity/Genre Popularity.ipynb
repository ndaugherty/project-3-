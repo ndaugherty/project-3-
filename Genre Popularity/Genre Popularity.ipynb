{
 "cells": [
  {
   "cell_type": "code",
   "execution_count": 1,
   "metadata": {},
   "outputs": [
    {
     "name": "stdout",
     "output_type": "stream",
     "text": [
      "Requirement already satisfied: spotipy in /opt/anaconda3/lib/python3.11/site-packages (2.25.1)\n",
      "Requirement already satisfied: pandas in /opt/anaconda3/lib/python3.11/site-packages (2.1.4)\n",
      "Requirement already satisfied: redis>=3.5.3 in /opt/anaconda3/lib/python3.11/site-packages (from spotipy) (5.2.1)\n",
      "Requirement already satisfied: requests>=2.25.0 in /opt/anaconda3/lib/python3.11/site-packages (from spotipy) (2.32.3)\n",
      "Requirement already satisfied: urllib3>=1.26.0 in /opt/anaconda3/lib/python3.11/site-packages (from spotipy) (2.0.7)\n",
      "Requirement already satisfied: numpy<2,>=1.23.2 in /opt/anaconda3/lib/python3.11/site-packages (from pandas) (1.26.4)\n",
      "Requirement already satisfied: python-dateutil>=2.8.2 in /opt/anaconda3/lib/python3.11/site-packages (from pandas) (2.8.2)\n",
      "Requirement already satisfied: pytz>=2020.1 in /opt/anaconda3/lib/python3.11/site-packages (from pandas) (2023.3.post1)\n",
      "Requirement already satisfied: tzdata>=2022.1 in /opt/anaconda3/lib/python3.11/site-packages (from pandas) (2023.3)\n",
      "Requirement already satisfied: six>=1.5 in /opt/anaconda3/lib/python3.11/site-packages (from python-dateutil>=2.8.2->pandas) (1.16.0)\n",
      "Requirement already satisfied: charset-normalizer<4,>=2 in /opt/anaconda3/lib/python3.11/site-packages (from requests>=2.25.0->spotipy) (2.0.4)\n",
      "Requirement already satisfied: idna<4,>=2.5 in /opt/anaconda3/lib/python3.11/site-packages (from requests>=2.25.0->spotipy) (3.4)\n",
      "Requirement already satisfied: certifi>=2017.4.17 in /opt/anaconda3/lib/python3.11/site-packages (from requests>=2.25.0->spotipy) (2025.1.31)\n"
     ]
    }
   ],
   "source": [
    "! pip install spotipy pandas"
   ]
  },
  {
   "cell_type": "code",
   "execution_count": 2,
   "metadata": {},
   "outputs": [],
   "source": [
    "import spotipy\n",
    "from spotipy.oauth2 import SpotifyClientCredentials\n",
    "import pandas as pd"
   ]
  },
  {
   "cell_type": "code",
   "execution_count": 3,
   "metadata": {},
   "outputs": [],
   "source": [
    "# spotify credentials\n",
    "client_id = \"340ebe283d9f462489c995e108401871\"\n",
    "client_secret = \"a84f4bc0ce67494c969e7a9b818ce574\"\n",
    "sp = spotipy.Spotify(auth_manager=SpotifyClientCredentials(client_id=client_id, client_secret=client_secret))"
   ]
  },
  {
   "cell_type": "code",
   "execution_count": 4,
   "metadata": {},
   "outputs": [],
   "source": [
    "# function to get the audio features of a song\n",
    "def get_tracks_from_playlist(playlist_id):\n",
    "    tracks = []\n",
    "    results = sp.playlist_tracks(playlist_id)\n",
    "    \n",
    "    while results:\n",
    "        for item in results[\"items\"]:\n",
    "            track = item[\"track\"]\n",
    "            if track:\n",
    "                tracks.append({\n",
    "                    \"track_id\": track[\"id\"],\n",
    "                    \"album_id\": track[\"album\"][\"id\"],\n",
    "                    \"artist_id\": track[\"artists\"][0][\"id\"],  # Primary artist\n",
    "                    \"release_date\": track[\"album\"][\"release_date\"],\n",
    "                    \"popularity\": track[\"popularity\"]\n",
    "                })\n",
    "        results = sp.next(results)\n",
    "    \n",
    "    return pd.DataFrame(tracks)"
   ]
  },
  {
   "cell_type": "code",
   "execution_count": 5,
   "metadata": {},
   "outputs": [],
   "source": [
    "# get artists genres\n",
    "def get_artist_genres(artist_ids):\n",
    "    artist_data = []\n",
    "    # Fetch artist info in batches of 50 (Spotify API limit)\n",
    "    for i in range(0, len(artist_ids), 50):\n",
    "        batch = artist_ids[i:i+50]\n",
    "        artists = sp.artists(batch)[\"artists\"]\n",
    "        for artist in artists:\n",
    "            genres = artist.get(\"genres\", [])\n",
    "            genre_list = genres if genres else [\"Unknown\"]\n",
    "            for genre in genre_list:\n",
    "                artist_data.append({\n",
    "                    \"artist_id\": artist[\"id\"],\n",
    "                    \"genres\": genre\n",
    "                })\n",
    "    return pd.DataFrame(artist_data)"
   ]
  },
  {
   "cell_type": "code",
   "execution_count": 6,
   "metadata": {},
   "outputs": [],
   "source": [
    "# get album details\n",
    "def get_album_details(album_ids):\n",
    "    albums = []\n",
    "    # Fetch album info in batches of 20 (Spotify API limit)\n",
    "    for i in range(0, len(album_ids), 20):\n",
    "        batch = album_ids[i:i+20]\n",
    "        album_results = sp.albums(batch)[\"albums\"]\n",
    "        for album in album_results:\n",
    "            albums.append({\n",
    "                \"album_id\": album[\"id\"],\n",
    "                \"release_date\": album[\"release_date\"]\n",
    "            })\n",
    "    return pd.DataFrame(albums)"
   ]
  },
  {
   "cell_type": "code",
   "execution_count": 7,
   "metadata": {},
   "outputs": [],
   "source": [
    "# Get tracks from a playlist (replace with a real playlist ID)\n",
    "playlist_id = \"7E3uEa1emOcbZJuB8sFXeK\"  # Example: Spotify's Top Hits 2025 playlist\n",
    "tracks_df = get_tracks_from_playlist(playlist_id)"
   ]
  },
  {
   "cell_type": "code",
   "execution_count": 8,
   "metadata": {},
   "outputs": [],
   "source": [
    "def calculate_genre_popularity(playlist_id):\n",
    "    # 1. Get tracks from the playlist\n",
    "    tracks_df = get_tracks_from_playlist(playlist_id)"
   ]
  },
  {
   "cell_type": "code",
   "execution_count": 9,
   "metadata": {},
   "outputs": [],
   "source": [
    " # 2. Get unique artist and album IDs\n",
    "unique_artist_ids = tracks_df[\"artist_id\"].unique()\n",
    "unique_album_ids = tracks_df[\"album_id\"].unique()"
   ]
  },
  {
   "cell_type": "code",
   "execution_count": 10,
   "metadata": {},
   "outputs": [],
   "source": [
    "   # 3. Get artist genres and album release dates\n",
    "artists_df = get_artist_genres(unique_artist_ids)\n",
    "albums_df = get_album_details(unique_album_ids)"
   ]
  },
  {
   "cell_type": "code",
   "execution_count": 11,
   "metadata": {},
   "outputs": [],
   "source": [
    " # 4. Merge data to combine all information\n",
    "merged_df = (\n",
    "    tracks_df.merge(albums_df, on=\"album_id\", how=\"left\")  # Merge album release_date\n",
    "    .merge(artists_df, on=\"artist_id\", how=\"left\")  # Merge artist genres\n",
    ")"
   ]
  },
  {
   "cell_type": "code",
   "execution_count": 12,
   "metadata": {},
   "outputs": [],
   "source": [
    "def calculate_avg_popularity(merged_df):\n",
    "    # 5. Group by genres and release_date_y to calculate avg_popularity\n",
    "    result_df = (\n",
    "        merged_df.groupby([\"genres\", \"release_date_y\"])\n",
    "        .agg(avg_popularity=(\"popularity\", \"mean\"))\n",
    "        .reset_index()\n",
    "        .sort_values(by=\"release_date_y\")\n",
    "    )\n",
    "    \n",
    "    return result_df"
   ]
  },
  {
   "cell_type": "code",
   "execution_count": 13,
   "metadata": {},
   "outputs": [
    {
     "name": "stdout",
     "output_type": "stream",
     "text": [
      "                   track_id                album_id               artist_id  \\\n",
      "0    5xYC48nOppVemY6U5GRGTb  5DJc5qCdB5pPrDO97LXjeW  1Cs0zKBU1kc0i8ypK3B9ai   \n",
      "1    5xYC48nOppVemY6U5GRGTb  5DJc5qCdB5pPrDO97LXjeW  1Cs0zKBU1kc0i8ypK3B9ai   \n",
      "2    0HPD5WQqrq7wPWR7P7Dw1i  6fpLLJsDSSAlToEDW2jv4F  6LqNN22kT3074XbTVUrhzX   \n",
      "3    7H6ev70Weq6DdpZyyTmUXk  283NWqNsCA9GwVHrJk59CG  1Y8cdNmUJH7yBTd9yOvr5i   \n",
      "4    3MjUtNVVq3C8Fn0MP3zhXa  3WNxdumkSMGMJRhEgK80qx  26dSoYclwsYLMAKD3tpOr4   \n",
      "..                      ...                     ...                     ...   \n",
      "410  2kp5Ti4LBWdoSJq75FJX2O  03Kuho1d6EzoMDayFYtjoF  1y6ckRNkCd7OvV5rQ4fnw5   \n",
      "411  5favzCaMtzSjMS4dQs4gQe  6R592GpgvpU7qrcsSNiCZe  6bxc6mv1yH88XRwQjORrKz   \n",
      "412  2SYo2vYYnEXmoiXypuJ2xR  1ysGOTVuZNbRmvdw5ayjxC  2Zvp0R2dcPv2L2h54FrcDM   \n",
      "413  5mCPDVBb16L4XQwDdbRUpz  1lXY618HWkwYKJWBRYR4MK  3TVXtAsR1Inumwj472S9r4   \n",
      "414  5mCPDVBb16L4XQwDdbRUpz  1lXY618HWkwYKJWBRYR4MK  3TVXtAsR1Inumwj472S9r4   \n",
      "\n",
      "    release_date_x  popularity release_date_y   genres  \n",
      "0       2010-11-22          63     2010-11-22      edm  \n",
      "1       2010-11-22          63     2010-11-22    dance  \n",
      "2       2010-01-01          84     2010-01-01  Unknown  \n",
      "3       1999-07-27          78     1999-07-27  Unknown  \n",
      "4       1999-01-12          82     1999-01-12      pop  \n",
      "..             ...         ...            ...      ...  \n",
      "410     2025-02-09          19     2025-02-09  Unknown  \n",
      "411     2025-02-28          27     2025-02-28  Unknown  \n",
      "412     2025-03-01          17     2025-03-01  Unknown  \n",
      "413     2017-03-18          83     2017-03-18      rap  \n",
      "414     2017-03-18          83     2017-03-18  hip hop  \n",
      "\n",
      "[415 rows x 7 columns]\n"
     ]
    }
   ],
   "source": [
    "# Get genre popularity over time\n",
    "genre_popularity_df = calculate_genre_popularity(playlist_id)\n",
    "\n",
    "# Display result\n",
    "print(merged_df)"
   ]
  },
  {
   "cell_type": "code",
   "execution_count": 14,
   "metadata": {},
   "outputs": [
    {
     "name": "stdout",
     "output_type": "stream",
     "text": [
      "CSV file saved as 'genre_popularity_over_time.csv'!\n"
     ]
    }
   ],
   "source": [
    "# Save the resulting DataFrame to a CSV file\n",
    "merged_df.to_csv(\"genre_popularity_over_time.csv\", index=False)\n",
    "\n",
    "print(\"CSV file saved as 'genre_popularity_over_time.csv'!\")"
   ]
  }
 ],
 "metadata": {
  "kernelspec": {
   "display_name": "base",
   "language": "python",
   "name": "python3"
  },
  "language_info": {
   "codemirror_mode": {
    "name": "ipython",
    "version": 3
   },
   "file_extension": ".py",
   "mimetype": "text/x-python",
   "name": "python",
   "nbconvert_exporter": "python",
   "pygments_lexer": "ipython3",
   "version": "3.11.8"
  }
 },
 "nbformat": 4,
 "nbformat_minor": 2
}

{
 "cells": [
  {
   "cell_type": "code",
   "execution_count": 30,
   "metadata": {},
   "outputs": [
    {
     "name": "stdout",
     "output_type": "stream",
     "text": [
      "Collecting spotipy\n",
      "  Downloading spotipy-2.25.1-py3-none-any.whl.metadata (5.1 kB)\n",
      "Requirement already satisfied: pandas in c:\\users\\18165\\anaconda3\\envs\\new_env3\\lib\\site-packages (2.2.3)\n",
      "Collecting redis>=3.5.3 (from spotipy)\n",
      "  Downloading redis-5.2.1-py3-none-any.whl.metadata (9.1 kB)\n",
      "Requirement already satisfied: requests>=2.25.0 in c:\\users\\18165\\anaconda3\\envs\\new_env3\\lib\\site-packages (from spotipy) (2.32.3)\n",
      "Requirement already satisfied: urllib3>=1.26.0 in c:\\users\\18165\\anaconda3\\envs\\new_env3\\lib\\site-packages (from spotipy) (2.2.3)\n",
      "Requirement already satisfied: numpy>=1.26.0 in c:\\users\\18165\\anaconda3\\envs\\new_env3\\lib\\site-packages (from pandas) (2.1.3)\n",
      "Requirement already satisfied: python-dateutil>=2.8.2 in c:\\users\\18165\\anaconda3\\envs\\new_env3\\lib\\site-packages (from pandas) (2.9.0.post0)\n",
      "Requirement already satisfied: pytz>=2020.1 in c:\\users\\18165\\anaconda3\\envs\\new_env3\\lib\\site-packages (from pandas) (2024.1)\n",
      "Requirement already satisfied: tzdata>=2022.7 in c:\\users\\18165\\anaconda3\\envs\\new_env3\\lib\\site-packages (from pandas) (2024.2)\n",
      "Requirement already satisfied: six>=1.5 in c:\\users\\18165\\anaconda3\\envs\\new_env3\\lib\\site-packages (from python-dateutil>=2.8.2->pandas) (1.17.0)\n",
      "Requirement already satisfied: charset-normalizer<4,>=2 in c:\\users\\18165\\anaconda3\\envs\\new_env3\\lib\\site-packages (from requests>=2.25.0->spotipy) (3.3.2)\n",
      "Requirement already satisfied: idna<4,>=2.5 in c:\\users\\18165\\anaconda3\\envs\\new_env3\\lib\\site-packages (from requests>=2.25.0->spotipy) (3.10)\n",
      "Requirement already satisfied: certifi>=2017.4.17 in c:\\users\\18165\\anaconda3\\envs\\new_env3\\lib\\site-packages (from requests>=2.25.0->spotipy) (2024.12.14)\n",
      "Downloading spotipy-2.25.1-py3-none-any.whl (31 kB)\n",
      "Downloading redis-5.2.1-py3-none-any.whl (261 kB)\n",
      "Installing collected packages: redis, spotipy\n",
      "Successfully installed redis-5.2.1 spotipy-2.25.1\n"
     ]
    }
   ],
   "source": [
    "! pip install spotipy pandas"
   ]
  },
  {
   "cell_type": "code",
   "execution_count": 10,
   "metadata": {},
   "outputs": [],
   "source": [
    "import spotipy\n",
    "from spotipy.oauth2 import SpotifyClientCredentials\n",
    "import pandas as pd"
   ]
  },
  {
   "cell_type": "code",
   "execution_count": 11,
   "metadata": {},
   "outputs": [],
   "source": [
    "# spotify credentials\n",
    "client_id = \"340ebe283d9f462489c995e108401871\"\n",
    "client_secret = \"a84f4bc0ce67494c969e7a9b818ce574\"\n",
    "sp = spotipy.Spotify(auth_manager=SpotifyClientCredentials(client_id=client_id, client_secret=client_secret))"
   ]
  },
  {
   "cell_type": "code",
   "execution_count": 12,
   "metadata": {},
   "outputs": [],
   "source": [
    "# function to get the audio features of a song\n",
    "def get_tracks_from_playlist(playlist_id):\n",
    "    tracks = []\n",
    "    results = sp.playlist_tracks(playlist_id)\n",
    "    \n",
    "    while results:\n",
    "        for item in results[\"items\"]:\n",
    "            track = item[\"track\"]\n",
    "            if track:\n",
    "                tracks.append({\n",
    "                    \"track_id\": track[\"id\"],\n",
    "                    \"album_id\": track[\"album\"][\"id\"],\n",
    "                    \"artist_id\": track[\"artists\"][0][\"id\"],  # Primary artist\n",
    "                    \"release_date\": track[\"album\"][\"release_date\"],\n",
    "                    \"popularity\": track[\"popularity\"]\n",
    "                })\n",
    "        results = sp.next(results)\n",
    "    \n",
    "    return pd.DataFrame(tracks)"
   ]
  },
  {
   "cell_type": "code",
   "execution_count": 13,
   "metadata": {},
   "outputs": [],
   "source": [
    "# get artists genres\n",
    "def get_artist_genres(artist_ids):\n",
    "    artist_data = []\n",
    "    # Fetch artist info in batches of 50 (Spotify API limit)\n",
    "    for i in range(0, len(artist_ids), 50):\n",
    "        batch = artist_ids[i:i+50]\n",
    "        artists = sp.artists(batch)[\"artists\"]\n",
    "        for artist in artists:\n",
    "            genres = artist.get(\"genres\", [])\n",
    "            genre_list = genres if genres else [\"Unknown\"]\n",
    "            for genre in genre_list:\n",
    "                artist_data.append({\n",
    "                    \"artist_id\": artist[\"id\"],\n",
    "                    \"genres\": genre\n",
    "                })\n",
    "    return pd.DataFrame(artist_data)"
   ]
  },
  {
   "cell_type": "code",
   "execution_count": 14,
   "metadata": {},
   "outputs": [],
   "source": [
    "# get album details\n",
    "def get_album_details(album_ids):\n",
    "    albums = []\n",
    "    # Fetch album info in batches of 20 (Spotify API limit)\n",
    "    for i in range(0, len(album_ids), 20):\n",
    "        batch = album_ids[i:i+20]\n",
    "        album_results = sp.albums(batch)[\"albums\"]\n",
    "        for album in album_results:\n",
    "            albums.append({\n",
    "                \"album_id\": album[\"id\"],\n",
    "                \"release_date\": album[\"release_date\"]\n",
    "            })\n",
    "    return pd.DataFrame(albums)"
   ]
  },
  {
   "cell_type": "code",
   "execution_count": 15,
   "metadata": {},
   "outputs": [],
   "source": [
    "# Get tracks from a playlist (replace with a real playlist ID)\n",
    "playlist_id = \"7c2c13pKxvFDSV4WSyydyg\"  # Example: Spotify's Top Hits 2025 playlist\n",
    "tracks_df = get_tracks_from_playlist(playlist_id)"
   ]
  },
  {
   "cell_type": "code",
   "execution_count": 16,
   "metadata": {},
   "outputs": [],
   "source": [
    "def calculate_genre_popularity(playlist_id):\n",
    "    # 1. Get tracks from the playlist\n",
    "    tracks_df = get_tracks_from_playlist(playlist_id)"
   ]
  },
  {
   "cell_type": "code",
   "execution_count": 17,
   "metadata": {},
   "outputs": [],
   "source": [
    " # 2. Get unique artist and album IDs\n",
    "unique_artist_ids = tracks_df[\"artist_id\"].unique()\n",
    "unique_album_ids = tracks_df[\"album_id\"].unique()"
   ]
  },
  {
   "cell_type": "code",
   "execution_count": 18,
   "metadata": {},
   "outputs": [],
   "source": [
    "   # 3. Get artist genres and album release dates\n",
    "artists_df = get_artist_genres(unique_artist_ids)\n",
    "albums_df = get_album_details(unique_album_ids)"
   ]
  },
  {
   "cell_type": "code",
   "execution_count": 19,
   "metadata": {},
   "outputs": [],
   "source": [
    " # 4. Merge data to combine all information\n",
    "merged_df = (\n",
    "    tracks_df.merge(albums_df, on=\"album_id\", how=\"left\")  # Merge album release_date\n",
    "    .merge(artists_df, on=\"artist_id\", how=\"left\")  # Merge artist genres\n",
    ")"
   ]
  },
  {
   "cell_type": "code",
   "execution_count": 20,
   "metadata": {},
   "outputs": [],
   "source": [
    "def calculate_avg_popularity(merged_df):\n",
    "    # 5. Group by genres and release_date_y to calculate avg_popularity\n",
    "    result_df = (\n",
    "        merged_df.groupby([\"genres\", \"release_date_y\"])\n",
    "        .agg(avg_popularity=(\"popularity\", \"mean\"))\n",
    "        .reset_index()\n",
    "        .sort_values(by=\"release_date_y\")\n",
    "    )\n",
    "    \n",
    "    return result_df"
   ]
  },
  {
   "cell_type": "code",
   "execution_count": 21,
   "metadata": {},
   "outputs": [
    {
     "name": "stdout",
     "output_type": "stream",
     "text": [
      "                    track_id                album_id               artist_id  \\\n",
      "0     33FPsMEl3UwpytDuyf9VYq  2KaqhTuykw9yrstJJMgiBe  73sSFVlM6pkweLXE8qw1OS   \n",
      "1     33FPsMEl3UwpytDuyf9VYq  2KaqhTuykw9yrstJJMgiBe  73sSFVlM6pkweLXE8qw1OS   \n",
      "2     5zyrEv4F3FaLECI8TOKpFM  490sLjsTmSo7MnA8noKMOH  4llklDtTTyMYMY2LfFOkTI   \n",
      "3     5zyrEv4F3FaLECI8TOKpFM  490sLjsTmSo7MnA8noKMOH  4llklDtTTyMYMY2LfFOkTI   \n",
      "4     5zyrEv4F3FaLECI8TOKpFM  490sLjsTmSo7MnA8noKMOH  4llklDtTTyMYMY2LfFOkTI   \n",
      "...                      ...                     ...                     ...   \n",
      "1598  0Z7nGFVCLfixWctgePsRk9  6cBlaud5JVmPjkjxnwIMLx  6vWDO969PvNqNYHIOW5v0m   \n",
      "1599  3w0w2T288dec0mgeZZqoNN  30zwjSQEodaUXCn11nmiVF  4xPQFgDA5M2xa0ZGo5iIsv   \n",
      "1600  51ZQ1vr10ffzbwIjDCwqm4  5EYKrEDnKhhcNxGedaRQeK  66CXWjxzNUsdJxJ2JdwvnR   \n",
      "1601  6usohdchdzW9oML7VC4Uhk  5QMiub2LonMqxB7dhtbPlX  33qOK5uJ8AR2xuQQAhHump   \n",
      "1602  2tudvzsrR56uom6smgOcSf  4iqbFIdGOTzXeDtt9owjQn  1RyvyyTE3xzB2ZywiAwp0i   \n",
      "\n",
      "     release_date_x  popularity release_date_y                     genres  \n",
      "0        2001-06-07           0     2001-06-07                 rockabilly  \n",
      "1        2001-06-07           0     2001-06-07                    doo-wop  \n",
      "2        2008-04-28          49     2008-04-28  italian singer-songwriter  \n",
      "3        2008-04-28          49     2008-04-28                italo dance  \n",
      "4        2008-04-28          49     2008-04-28         canzone napoletana  \n",
      "...             ...         ...            ...                        ...  \n",
      "1598     2024-02-11          76     2024-02-11                    Unknown  \n",
      "1599     2024-02-09          21     2024-02-09                    Unknown  \n",
      "1600     2024-03-08          88     2024-03-08                        pop  \n",
      "1601     2023-06-23          82     2023-06-23                    Unknown  \n",
      "1602     2024-03-22          87     2024-03-22                        rap  \n",
      "\n",
      "[1603 rows x 7 columns]\n"
     ]
    }
   ],
   "source": [
    "# Get genre popularity over time\n",
    "genre_popularity_df = calculate_genre_popularity(playlist_id)\n",
    "\n",
    "# Display result\n",
    "print(merged_df)"
   ]
  },
  {
   "cell_type": "code",
   "execution_count": 22,
   "metadata": {},
   "outputs": [
    {
     "name": "stdout",
     "output_type": "stream",
     "text": [
      "CSV file saved as 'genre_popularity_over_time.csv'!\n"
     ]
    }
   ],
   "source": [
    "# Save the resulting DataFrame to a CSV file\n",
    "merged_df.to_csv(\"genre_popularity_over_time.csv\", index=False)\n",
    "\n",
    "print(\"CSV file saved as 'genre_popularity_over_time.csv'!\")"
   ]
  },
  {
   "cell_type": "code",
   "execution_count": 23,
   "metadata": {},
   "outputs": [
    {
     "name": "stdout",
     "output_type": "stream",
     "text": [
      "                  genres  count\n",
      "0                Unknown    487\n",
      "1              acid rock     10\n",
      "2       acoustic country      1\n",
      "3        adult standards     32\n",
      "4              afro soul      1\n",
      "..                   ...    ...\n",
      "121  traditional country      2\n",
      "122                 trap      1\n",
      "123    variété française      3\n",
      "124           vocal jazz      7\n",
      "125   west coast hip hop      5\n",
      "\n",
      "[126 rows x 2 columns]\n"
     ]
    }
   ],
   "source": [
    "# Count the number of occurrences of each genre\n",
    "genre_count_df = merged_df.groupby(\"genres\").size().reset_index(name=\"count\")\n",
    "\n",
    "# Display the genre count DataFrame\n",
    "print(genre_count_df)"
   ]
  },
  {
   "cell_type": "code",
   "execution_count": 24,
   "metadata": {},
   "outputs": [
    {
     "name": "stdout",
     "output_type": "stream",
     "text": [
      "CSV file saved as 'genre_count.csv'!\n"
     ]
    }
   ],
   "source": [
    "# Save the genre count to a CSV file\n",
    "genre_count_df.to_csv(\"genre_count.csv\", index=False)\n",
    "print(\"CSV file saved as 'genre_count.csv'!\")"
   ]
  },
  {
   "cell_type": "markdown",
   "metadata": {},
   "source": [
    "Motown is the most popular genre from 1958 to 2024"
   ]
  },
  {
   "cell_type": "code",
   "execution_count": 25,
   "metadata": {},
   "outputs": [
    {
     "name": "stdout",
     "output_type": "stream",
     "text": [
      "                  artist_id  count\n",
      "0    01gp5ElAZTH3BNkFII1qPM      1\n",
      "1    01hRNr3yF5bYnPq4wZ88iI      2\n",
      "2    04LIHk1SobiQwt2tlupoAV      2\n",
      "3    04gDigrS5kc9YWfZHwBETP      4\n",
      "4    05RZIdfz59ZW2FvFuwnmNK      1\n",
      "..                      ...    ...\n",
      "648  7xAcVHPiirnUqfdqo0USb1      1\n",
      "649  7xGGqA85UIWX1GoTVM4itC      4\n",
      "650  7xTcuBOIAAIGDOSvwYFPzk      1\n",
      "651  7xkAwz0bQTGDSbkofyQt3U      1\n",
      "652  7y0ngZzIllkP8ZOqgTKQFc      1\n",
      "\n",
      "[653 rows x 2 columns]\n"
     ]
    }
   ],
   "source": [
    "artists_df = merged_df.groupby(\"artist_id\").size().reset_index(name=\"count\")\n",
    "print(artists_df)\n"
   ]
  },
  {
   "cell_type": "code",
   "execution_count": 26,
   "metadata": {},
   "outputs": [
    {
     "name": "stdout",
     "output_type": "stream",
     "text": [
      "CSV file saved as 'artists.csv'!\n"
     ]
    }
   ],
   "source": [
    "artists_df.to_csv(\"artists.csv\", index=False)\n",
    "print(\"CSV file saved as 'artists.csv'!\")   \n",
    "\n",
    "\n",
    "\n",
    "\n",
    "\n",
    "\n",
    "\n"
   ]
  },
  {
   "cell_type": "code",
   "execution_count": 27,
   "metadata": {},
   "outputs": [
    {
     "name": "stdout",
     "output_type": "stream",
     "text": [
      "    popularity  count\n",
      "0            0    113\n",
      "1            1     24\n",
      "2            2     22\n",
      "3            3     13\n",
      "4            4      9\n",
      "..         ...    ...\n",
      "77          85      9\n",
      "78          86     14\n",
      "79          87      7\n",
      "80          88      8\n",
      "81          89      5\n",
      "\n",
      "[82 rows x 2 columns]\n"
     ]
    }
   ],
   "source": [
    "popularity_df = merged_df.groupby(\"popularity\").size().reset_index(name=\"count\")\n",
    "print(popularity_df)\n",
    "\n"
   ]
  },
  {
   "cell_type": "code",
   "execution_count": 28,
   "metadata": {},
   "outputs": [
    {
     "name": "stdout",
     "output_type": "stream",
     "text": [
      "CSV file saved as 'popularity.csv'!\n"
     ]
    }
   ],
   "source": [
    "popularity_df.to_csv(\"popularity.csv\", index=False)\n",
    "print(\"CSV file saved as 'popularity.csv'!\")"
   ]
  },
  {
   "cell_type": "code",
   "execution_count": 36,
   "metadata": {},
   "outputs": [
    {
     "data": {
      "image/png": "[encoded data removed]",
      "text/plain": [
       "<Figure size 2000x2000 with 1 Axes>"
      ]
     },
     "metadata": {},
     "output_type": "display_data"
    }
   ],
   "source": [
    "import pandas as pd\n",
    "import matplotlib.pyplot as plt\n",
    "from matplotlib_venn import venn2\n",
    "\n",
    "# Sample DataFrames \n",
    "popularity_df = pd.DataFrame({'artist_name': ['Drake', 'Beyoncé', 'Eminem', 'Adele', 'Taylor Swift', 'Ed Sheeran', 'Ariana Grande', 'Justin Bieber']})  \n",
    "artists_df = pd.DataFrame({'artist_name': ['Eminem', 'Adele', 'Taylor Swift', 'Ed Sheeran', 'Ariana Grande', 'Justin Bieber', 'Kanye West', 'Rihanna']})\n",
    "\n",
    "# Convert columns to sets\n",
    "set_popularity = set(popularity_df['artist_name'])\n",
    "set_artists = set(artists_df['artist_name'])\n",
    "\n",
    "# Create Venn diagram\n",
    "plt.figure(figsize=(20,20))\n",
    "venn2([set_popularity, set_artists], ('Popularity DF', 'Artists DF'))\n",
    "\n",
    "# Show the plot\n",
    "plt.show()\n"
   ]
  }
 ],
 "metadata": {
  "kernelspec": {
   "display_name": "new_env3",
   "language": "python",
   "name": "python3"
  },
  "language_info": {
   "codemirror_mode": {
    "name": "ipython",
    "version": 3
   },
   "file_extension": ".py",
   "mimetype": "text/x-python",
   "name": "python",
   "nbconvert_exporter": "python",
   "pygments_lexer": "ipython3",
   "version": "3.13.1"
  }
 },
 "nbformat": 4,
 "nbformat_minor": 2
}
